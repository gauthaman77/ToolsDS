{
 "cells": [
  {
   "cell_type": "markdown",
   "id": "6efbc82f",
   "metadata": {},
   "source": [
    "# Data Science Tools and Ecosystem"
   ]
  },
  {
   "cell_type": "markdown",
   "id": "8d1d691e",
   "metadata": {},
   "source": [
    "In this notebook, Data Science Tools and Ecosystem are summarized"
   ]
  },
  {
   "cell_type": "markdown",
   "id": "650a7ae3",
   "metadata": {},
   "source": [
    "**Objectives**\n",
    "- List some of the popular Data Science languages  \n",
    "- List some of the common Data Science libraries  \n",
    "- List some of the Data Science tools  \n",
    "- Show some of the common arithematic expressions in Python  \n"
   ]
  },
  {
   "cell_type": "markdown",
   "id": "f39cc580",
   "metadata": {},
   "source": [
    "Some of the popular languages that Data Scientists use are\n",
    "1. Python\n",
    "2. R  \n",
    "3. SQL \n",
    "4. Java \n",
    "5. Scala  \n",
    "6. C++  \n",
    "7. JavaScript \n",
    "8. Julia"
   ]
  },
  {
   "cell_type": "markdown",
   "id": "521b9aef",
   "metadata": {},
   "source": [
    "Some of the commonly used libraries used by Data Scientists are  \n",
    "1. Pandas  \n",
    "2. Numpy  \n",
    "3. Matplotlib  \n"
   ]
  },
  {
   "cell_type": "markdown",
   "id": "1dcdb7a0",
   "metadata": {},
   "source": [
    "| Data Science Tools |\n",
    "| --- |\n",
    "| Jupyter Notebook | \n",
    "| R Studio |\n",
    "| Spyder |\n",
    "\n",
    "\n"
   ]
  },
  {
   "cell_type": "markdown",
   "id": "d56c710c",
   "metadata": {},
   "source": [
    "### Below are a few examples of evaluating arithmetic expressions in Python"
   ]
  },
  {
   "cell_type": "code",
   "execution_count": 1,
   "id": "70649cc6",
   "metadata": {},
   "outputs": [
    {
     "data": {
      "text/plain": [
       "17"
      ]
     },
     "execution_count": 1,
     "metadata": {},
     "output_type": "execute_result"
    }
   ],
   "source": [
    "# The code below shows arithematic expressions in Python\n",
    "3*4+5\n"
   ]
  },
  {
   "cell_type": "code",
   "execution_count": 2,
   "id": "8f583a26",
   "metadata": {},
   "outputs": [
    {
     "data": {
      "text/plain": [
       "3.3333333333333335"
      ]
     },
     "execution_count": 2,
     "metadata": {},
     "output_type": "execute_result"
    }
   ],
   "source": [
    "# The code below shows converting 200 minutes to hours\n",
    "200/60"
   ]
  },
  {
   "cell_type": "markdown",
   "id": "41d442b3",
   "metadata": {},
   "source": [
    "## Author  \n",
    "Gauthama S Nair  \n"
   ]
  }
 ],
 "metadata": {
  "kernelspec": {
   "display_name": "Python 3 (ipykernel)",
   "language": "python",
   "name": "python3"
  },
  "language_info": {
   "codemirror_mode": {
    "name": "ipython",
    "version": 3
   },
   "file_extension": ".py",
   "mimetype": "text/x-python",
   "name": "python",
   "nbconvert_exporter": "python",
   "pygments_lexer": "ipython3",
   "version": "3.8.10"
  }
 },
 "nbformat": 4,
 "nbformat_minor": 5
}
